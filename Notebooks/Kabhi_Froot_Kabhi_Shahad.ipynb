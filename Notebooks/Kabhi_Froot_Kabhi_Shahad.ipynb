{
  "nbformat": 4,
  "nbformat_minor": 0,
  "metadata": {
    "colab": {
      "name": "Kabhi Froot Kabhi Shahad.ipynb",
      "private_outputs": true,
      "provenance": [],
      "collapsed_sections": [],
      "authorship_tag": "ABX9TyN+2Yn4WN1Aqw0jowQuNQlJ",
      "include_colab_link": true
    },
    "kernelspec": {
      "name": "python3",
      "display_name": "Python 3"
    },
    "accelerator": "GPU"
  },
  "cells": [
    {
      "cell_type": "markdown",
      "metadata": {
        "id": "view-in-github",
        "colab_type": "text"
      },
      "source": [
        "<a href=\"https://colab.research.google.com/github/studboii/ML-Colab_Demos/blob/main/Notebooks/Kabhi_Froot_Kabhi_Shahad.ipynb\" target=\"_parent\"><img src=\"https://colab.research.google.com/assets/colab-badge.svg\" alt=\"Open In Colab\"/></a>"
      ]
    },
    {
      "cell_type": "code",
      "metadata": {
        "id": "VsgRulG5Bu7M"
      },
      "source": [
        "!pip install -U fastbook\n",
        "import fastbook\n",
        "fastbook.setup_book()"
      ],
      "execution_count": null,
      "outputs": []
    },
    {
      "cell_type": "code",
      "metadata": {
        "id": "IUkXG_mqB1Pn"
      },
      "source": [
        "from fastbook import *\n",
        "from fastai.vision.widgets import *"
      ],
      "execution_count": null,
      "outputs": []
    },
    {
      "cell_type": "code",
      "metadata": {
        "id": "BklISmLP3mxQ"
      },
      "source": [
        "!pip install -qq gdown"
      ],
      "execution_count": null,
      "outputs": []
    },
    {
      "cell_type": "code",
      "metadata": {
        "id": "9BT0SN15-SPz"
      },
      "source": [
        "! gdown -O Fruits.zip https://drive.google.com/uc?id=159netVOtnpAABYJHHVuulH7tWUC6JJ4D"
      ],
      "execution_count": null,
      "outputs": []
    },
    {
      "cell_type": "code",
      "metadata": {
        "id": "YSBjA9J23GVw"
      },
      "source": [
        "#We use 7z to unzip our file. From my experience, 7z is usually faster and has cleaner output\n",
        "! 7z x /content/Fruits.zip"
      ],
      "execution_count": null,
      "outputs": []
    },
    {
      "cell_type": "code",
      "metadata": {
        "id": "RPqA_nAbCLL-"
      },
      "source": [
        "pth  = \"/content/fruits-360/Training\""
      ],
      "execution_count": null,
      "outputs": []
    },
    {
      "cell_type": "code",
      "metadata": {
        "id": "eXjlBif1CbQS"
      },
      "source": [
        "FruitsDls = DataBlock(blocks=(ImageBlock, CategoryBlock), get_items=get_image_files, splitter=RandomSplitter(valid_pct=0.2, seed=42), get_y=parent_label, item_tfms=Resize(100))\n",
        "#This is our fruit dataloader object In the next bit of code, I'll specify the path and hopefully the model works at recognizing which fruit is which\n"
      ],
      "execution_count": null,
      "outputs": []
    },
    {
      "cell_type": "code",
      "metadata": {
        "id": "hmBxvPL9CcZ4"
      },
      "source": [
        "FruitsDls = FruitsDls.new(item_tfms=Resize(110, ResizeMethod.Pad, pad_mode='zeros'))\n",
        "dls = FruitsDls.dataloaders(pth)"
      ],
      "execution_count": null,
      "outputs": []
    },
    {
      "cell_type": "code",
      "metadata": {
        "id": "0M9zE37oCejy"
      },
      "source": [
        "dls.valid.show_batch(max_n = 14, nrows = 2)\n",
        "# Show me two rows of a random batch"
      ],
      "execution_count": null,
      "outputs": []
    },
    {
      "cell_type": "code",
      "metadata": {
        "id": "CyoGpV1WCgfA"
      },
      "source": [
        "learn = cnn_learner(dls, resnet18, metrics=error_rate,path=\"/content/MyModel/\") #make a learner for our dataloader\n",
        "learn.fine_tune(5) #have 4 runs of training data to optimse our model"
      ],
      "execution_count": null,
      "outputs": []
    },
    {
      "cell_type": "code",
      "metadata": {
        "id": "hkvmkSipmKgQ"
      },
      "source": [
        "#If it doesnt't save the model, run the next part to save and download it\n",
        "learn.export(\"/content/MyModel/FruitModelResnet18.pkl\")"
      ],
      "execution_count": null,
      "outputs": []
    },
    {
      "cell_type": "code",
      "metadata": {
        "id": "nXgKVylXHiI8"
      },
      "source": [
        "#Now we plot our top losses to figure out where we might be a wittwe bit fucky wucky\n",
        "# interp.plot_top_losses(9, nrows=9)\n",
        "interp = ClassificationInterpretation.from_learner(learn)\n",
        "interp.plot_top_losses(5, nrows=1)"
      ],
      "execution_count": null,
      "outputs": []
    },
    {
      "cell_type": "code",
      "metadata": {
        "id": "ZoxNOMk9Kf_J"
      },
      "source": [
        "img = PILImage.create(\"/content/fruits-360/Test/Pear Red/200_100.jpg\")\n",
        "stuff = learn.predict(img)\n",
        "# print(\"Probability that this is a cat: \"+str(probs[1].item()*100))\n",
        "print(str(stuff))\n",
        "print(\"Item is a: \"+str(stuff[0]))"
      ],
      "execution_count": null,
      "outputs": []
    },
    {
      "cell_type": "code",
      "metadata": {
        "id": "9229D33UJGLv"
      },
      "source": [
        "learn.show_results()"
      ],
      "execution_count": null,
      "outputs": []
    },
    {
      "cell_type": "code",
      "metadata": {
        "id": "y32Hz6guL1y_"
      },
      "source": [
        "learn.dls.vocab"
      ],
      "execution_count": null,
      "outputs": []
    },
    {
      "cell_type": "code",
      "metadata": {
        "id": "oMokn7C1tatL"
      },
      "source": [
        "WasaLearner = load_learner(\"/content/MyModel/FruitModelResnet18.pkl\")"
      ],
      "execution_count": null,
      "outputs": []
    },
    {
      "cell_type": "code",
      "metadata": {
        "id": "wTpuD25Qt2_R"
      },
      "source": [
        "# Making all the widgets we need\n",
        "btn_upload = widgets.FileUpload() #Upload Widget\n",
        "out_pl = widgets.Output() #View What you uploaded\n",
        "btn_runner  = widgets.Button(description=\"Wat could it be lmao\") #Classify button\n",
        "lbl_pred = widgets.Label() #Answer label"
      ],
      "execution_count": null,
      "outputs": []
    },
    {
      "cell_type": "code",
      "metadata": {
        "id": "aH9BZbQiu0iI"
      },
      "source": [
        "# def Button_Saaf():\n",
        "#     btn_upload.value.clear()\n",
        "#     btn_upload._counter = 0\n",
        "\n",
        "def on_click_run(change):\n",
        "    img = PILImage.create(btn_upload.data[0])\n",
        "    out_pl.clear_output()\n",
        "    with out_pl: display(img.to_thumb(128,128))\n",
        "    pred,pred_idx,probs = WasaLearner.predict(img)\n",
        "    lbl_pred.value = f'Prediction: {pred}; Probability: {probs[pred_idx]:.04f}'\n",
        "\n",
        "btn_runner.on_click(on_click_run)"
      ],
      "execution_count": null,
      "outputs": []
    },
    {
      "cell_type": "code",
      "metadata": {
        "id": "tK1wSy1AxOtq"
      },
      "source": [
        "# Button_Saaf()\n",
        "btn_upload.value.clear()\n",
        "btn_upload._counter = 0\n",
        "VBox([widgets.Label('Select your fruit'), btn_upload, btn_runner, out_pl, lbl_pred])"
      ],
      "execution_count": null,
      "outputs": []
    }
  ]
}