{
  "nbformat": 4,
  "nbformat_minor": 0,
  "metadata": {
    "colab": {
      "name": "MNIST with no ML and a linear model.ipynb",
      "private_outputs": true,
      "provenance": [],
      "collapsed_sections": [],
      "authorship_tag": "ABX9TyPjIHtekf08Fzz/vc6wGvwU",
      "include_colab_link": true
    },
    "kernelspec": {
      "name": "python3",
      "display_name": "Python 3"
    },
    "accelerator": "GPU"
  },
  "cells": [
    {
      "cell_type": "markdown",
      "metadata": {
        "id": "view-in-github",
        "colab_type": "text"
      },
      "source": [
        "<a href=\"https://colab.research.google.com/github/studboii/ML-Colab_Demos/blob/main/Notebooks/MNIST_with_no_ML_and_a_linear_model.ipynb\" target=\"_parent\"><img src=\"https://colab.research.google.com/assets/colab-badge.svg\" alt=\"Open In Colab\"/></a>"
      ]
    },
    {
      "cell_type": "code",
      "metadata": {
        "id": "bKxZZZI5GDI1"
      },
      "source": [
        "!pip install -Uqq fastbook\n",
        "import fastbook\n",
        "fastbook.setup_book()"
      ],
      "execution_count": null,
      "outputs": []
    },
    {
      "cell_type": "code",
      "metadata": {
        "id": "6oRJOwBwGlz-"
      },
      "source": [
        "from fastbook import *\n",
        "from fastai.vision.widgets import *"
      ],
      "execution_count": null,
      "outputs": []
    },
    {
      "cell_type": "code",
      "metadata": {
        "id": "oF1g-fTQGpKq"
      },
      "source": [
        "!mkdir Data-Sets"
      ],
      "execution_count": null,
      "outputs": []
    },
    {
      "cell_type": "code",
      "metadata": {
        "id": "gInX4xl2GySu"
      },
      "source": [
        "from google.colab import files\n",
        "uploader = files.upload()"
      ],
      "execution_count": null,
      "outputs": []
    },
    {
      "cell_type": "markdown",
      "metadata": {
        "id": "8_Ace1ne1-TC"
      },
      "source": [
        "We use 7z to unzip and decompress the archive. -so sends thr output to standard out and the next part untars it and saves it."
      ]
    },
    {
      "cell_type": "code",
      "metadata": {
        "id": "ov81c-1wG9PB"
      },
      "source": [
        "!7z x \"/content/MNIST-As-PNG.tar.gz\" -so | 7z x -aoa -si -ttar -o\"/content/Data-Sets/MNIST-As-PNG\""
      ],
      "execution_count": null,
      "outputs": []
    },
    {
      "cell_type": "code",
      "metadata": {
        "id": "wvdVg6_zG-L6"
      },
      "source": [
        "path = Path(\"/content/Data-Sets/MNIST-As-PNG/mnist_png\")\n",
        "Path.BASE_PATH = path"
      ],
      "execution_count": null,
      "outputs": []
    },
    {
      "cell_type": "markdown",
      "metadata": {
        "id": "hJtG_hUhHgST"
      },
      "source": [
        "Now we set up a base-line test  by stacking them to see if it would work as i plan on it."
      ]
    },
    {
      "cell_type": "code",
      "metadata": {
        "id": "8b8YwxdoHpVa"
      },
      "source": [
        "zeroes = (path/'training'/'0').ls().sorted()\n",
        "ones = (path/'training'/'1').ls().sorted()\n",
        "ZeroT = [tensor(Image.open(o)) for o in zeroes]\n",
        "OneT = [tensor(Image.open(o)) for o in ones]\n",
        "len(ZeroT),len(OneT)"
      ],
      "execution_count": null,
      "outputs": []
    },
    {
      "cell_type": "code",
      "metadata": {
        "id": "hcMDSBP0JZz3"
      },
      "source": [
        "show_image(ZeroT[1])"
      ],
      "execution_count": null,
      "outputs": []
    },
    {
      "cell_type": "code",
      "metadata": {
        "id": "UfxnhuegJh43"
      },
      "source": [
        "show_image(OneT[3])"
      ],
      "execution_count": null,
      "outputs": []
    },
    {
      "cell_type": "code",
      "metadata": {
        "id": "Kmkjb38vJsuT"
      },
      "source": [
        "stack1 = torch.stack(OneT).float()/255\n",
        "stack0 = torch.stack(ZeroT).float()/255"
      ],
      "execution_count": null,
      "outputs": []
    },
    {
      "cell_type": "code",
      "metadata": {
        "id": "8549QguvKLtf"
      },
      "source": [
        "stack1.shape,stack0.shape"
      ],
      "execution_count": null,
      "outputs": []
    },
    {
      "cell_type": "code",
      "metadata": {
        "id": "p75kICcGKr_Q"
      },
      "source": [
        "mean0 = stack0.mean(0)\n",
        "mean1 = stack1.mean(0)\n",
        "show_image(mean0),show_image(mean1)"
      ],
      "execution_count": null,
      "outputs": []
    },
    {
      "cell_type": "code",
      "metadata": {
        "id": "MqM8GEKcLCOt"
      },
      "source": [
        "Vzeroes = (path/'testing'/'0').ls().sorted()\n",
        "Vones = (path/'testing'/'1').ls().sorted()\n",
        "VZeroT = [tensor(Image.open(o)) for o in Vzeroes]\n",
        "VOneT = [tensor(Image.open(o)) for o in Vones]\n",
        "len(VZeroT),len(VOneT)"
      ],
      "execution_count": null,
      "outputs": []
    },
    {
      "cell_type": "code",
      "metadata": {
        "id": "-E-oTpLh26Kk"
      },
      "source": [
        "Vstack1 = torch.stack(VOneT).float()/255\n",
        "Vstack0 = torch.stack(VZeroT).float()/255"
      ],
      "execution_count": null,
      "outputs": []
    },
    {
      "cell_type": "code",
      "metadata": {
        "id": "BVS17Ap93NzG"
      },
      "source": [
        "Vstack1.shape,Vstack0.shape"
      ],
      "execution_count": null,
      "outputs": []
    },
    {
      "cell_type": "code",
      "metadata": {
        "id": "vpiFEoQmNCyV"
      },
      "source": [
        "def Dist(a,b):\n",
        "    return (a-b).abs().mean((-1,-2))"
      ],
      "execution_count": null,
      "outputs": []
    },
    {
      "cell_type": "code",
      "metadata": {
        "id": "5OfFr-zXNooV"
      },
      "source": [
        "def Is_Zero(x):\n",
        "    return Dist(x,mean0) < Dist(x,mean1)"
      ],
      "execution_count": null,
      "outputs": []
    },
    {
      "cell_type": "code",
      "metadata": {
        "id": "k8bzF-mzOBJR"
      },
      "source": [
        "Accu0 = Is_Zero(Vstack0).float().mean()\n",
        "Accu1 = (1-Is_Zero(Vstack1).float()).mean()\n",
        "Accu0,Accu1,(Accu0+Accu1)/2"
      ],
      "execution_count": null,
      "outputs": []
    },
    {
      "cell_type": "code",
      "metadata": {
        "id": "SoEo5a_pTrcd"
      },
      "source": [
        "times = torch.arange(0,30).float()\n",
        "times"
      ],
      "execution_count": null,
      "outputs": []
    },
    {
      "cell_type": "code",
      "metadata": {
        "id": "Q-BMcXMcT7U3"
      },
      "source": [
        "speed = torch.randn(30)*5 + 0.55*(times-15.5)**2 + 1\n",
        "plt.scatter(times,speed),"
      ],
      "execution_count": null,
      "outputs": []
    },
    {
      "cell_type": "code",
      "metadata": {
        "id": "Y0INKPl7VUNZ"
      },
      "source": [
        "def f(t, params):\n",
        "    a,b,c = params\n",
        "    return a*(t**2) + (b*t) + c"
      ],
      "execution_count": null,
      "outputs": []
    },
    {
      "cell_type": "code",
      "metadata": {
        "id": "OY8WO2i9Vc3t"
      },
      "source": [
        "def mse(preds, targets):\n",
        "    return ((preds-targets)**2).mean().sqrt()"
      ],
      "execution_count": null,
      "outputs": []
    },
    {
      "cell_type": "code",
      "metadata": {
        "id": "aPM10EHvVkRY"
      },
      "source": [
        "params = torch.randn(3).requires_grad_()"
      ],
      "execution_count": null,
      "outputs": []
    },
    {
      "cell_type": "code",
      "metadata": {
        "id": "psB07ba_VpBZ"
      },
      "source": [
        "orig_params = params.clone()\n",
        "orig_params"
      ],
      "execution_count": null,
      "outputs": []
    },
    {
      "cell_type": "code",
      "metadata": {
        "id": "R53eQLjGVxav"
      },
      "source": [
        "preds = f(times, params)\n",
        "preds.shape, times.shape, speed.shape"
      ],
      "execution_count": null,
      "outputs": []
    },
    {
      "cell_type": "code",
      "metadata": {
        "id": "7FkBOVtPV9a-"
      },
      "source": [
        "def show_preds(preds,ax=None):\n",
        "    if ax is None: ax=plt.subplots()[1]\n",
        "    ax.scatter(times, speed)\n",
        "    ax.scatter(times, to_np(preds), color='red')\n",
        "    ax.set_ylim(-300,100)"
      ],
      "execution_count": null,
      "outputs": []
    },
    {
      "cell_type": "code",
      "metadata": {
        "id": "8uNAOXE7WCl7"
      },
      "source": [
        "show_preds(preds)"
      ],
      "execution_count": null,
      "outputs": []
    },
    {
      "cell_type": "code",
      "metadata": {
        "id": "yeHyDUSNWups"
      },
      "source": [
        "loss = mse(preds, speed)\n",
        "loss"
      ],
      "execution_count": null,
      "outputs": []
    },
    {
      "cell_type": "code",
      "metadata": {
        "id": "pBJcV5OZW7w2"
      },
      "source": [
        "loss.backward()\n",
        "params.grad"
      ],
      "execution_count": null,
      "outputs": []
    },
    {
      "cell_type": "markdown",
      "metadata": {
        "id": "0Fr3rH-XXcOM"
      },
      "source": [
        "Our equivalent of multiplying by a learning rate\n"
      ]
    },
    {
      "cell_type": "code",
      "metadata": {
        "id": "jqpIZk2QXKin"
      },
      "source": [
        "params.grad * 1e-5"
      ],
      "execution_count": null,
      "outputs": []
    },
    {
      "cell_type": "code",
      "metadata": {
        "id": "XbGGKJgpXj-d"
      },
      "source": [
        "params"
      ],
      "execution_count": null,
      "outputs": []
    },
    {
      "cell_type": "code",
      "metadata": {
        "id": "NLh9MZwwX4La"
      },
      "source": [
        "lr = 1e-5\n",
        "params.data -= lr * params.grad.data\n",
        "params.grad = None"
      ],
      "execution_count": null,
      "outputs": []
    },
    {
      "cell_type": "code",
      "metadata": {
        "id": "i_zbzXZwX-Mn"
      },
      "source": [
        "preds = f(times,params)"
      ],
      "execution_count": null,
      "outputs": []
    },
    {
      "cell_type": "code",
      "metadata": {
        "id": "7vXhOh1BYHHZ"
      },
      "source": [
        "mse(preds, speed)"
      ],
      "execution_count": null,
      "outputs": []
    },
    {
      "cell_type": "code",
      "metadata": {
        "id": "sXU40St5YP9s"
      },
      "source": [
        "show_preds(preds)"
      ],
      "execution_count": null,
      "outputs": []
    },
    {
      "cell_type": "code",
      "metadata": {
        "id": "N2LKlqDlYaHB"
      },
      "source": [
        "def apply_step(params, prn=True):\n",
        "    preds = f(times, params)\n",
        "    loss = mse(preds, speed)\n",
        "    loss.backward()\n",
        "    params.data -= lr * params.grad.data\n",
        "    params.grad = None\n",
        "    if prn: print(loss.item())\n",
        "    return preds"
      ],
      "execution_count": null,
      "outputs": []
    },
    {
      "cell_type": "code",
      "metadata": {
        "id": "aQEoMHGjYehi"
      },
      "source": [
        "for i in range(10): apply_step(params)"
      ],
      "execution_count": null,
      "outputs": []
    },
    {
      "cell_type": "code",
      "metadata": {
        "id": "qskqdejhYmsn"
      },
      "source": [
        "params = orig_params.detach().requires_grad_()\n",
        "params"
      ],
      "execution_count": null,
      "outputs": []
    },
    {
      "cell_type": "code",
      "metadata": {
        "id": "76lRqS68YsRv"
      },
      "source": [
        "def run_epoch(NumOfEpochs):\n",
        "    for i in range(NumOfEpochs):\n",
        "        preds = apply_step(params, True)\n",
        "        show_preds(preds)"
      ],
      "execution_count": null,
      "outputs": []
    },
    {
      "cell_type": "code",
      "metadata": {
        "id": "NOW6E4o3Zzn9"
      },
      "source": [
        "run_epoch(60)"
      ],
      "execution_count": null,
      "outputs": []
    },
    {
      "cell_type": "code",
      "metadata": {
        "id": "Jj0QPkNyPYJV"
      },
      "source": [
        "trainx = torch.cat([stack0,stack1]).view(-1,28*28)\n",
        "trainy = tensor([1]*len(zeroes) + [0]*len(ones)).unsqueeze(1)\n",
        "trainx.shape,trainy.shape"
      ],
      "execution_count": null,
      "outputs": []
    },
    {
      "cell_type": "code",
      "metadata": {
        "id": "aJk3CtgkQM7J"
      },
      "source": [
        "TrainSet = list(zip(trainx,trainy))"
      ],
      "execution_count": null,
      "outputs": []
    },
    {
      "cell_type": "code",
      "metadata": {
        "id": "tp5AujqXQVuL"
      },
      "source": [
        "Validx = torch.cat([Vstack0,Vstack1]).view(-1,28*28)\n",
        "Validy = tensor([1]*len(Vzeroes) + [0]*len(Vones)).unsqueeze(1)\n",
        "Validx.shape,Validy.shape"
      ],
      "execution_count": null,
      "outputs": []
    },
    {
      "cell_type": "code",
      "metadata": {
        "id": "ibZVhqa7RCyx"
      },
      "source": [
        "ValidSet = list(zip(Validx,Validy))"
      ],
      "execution_count": null,
      "outputs": []
    },
    {
      "cell_type": "code",
      "metadata": {
        "id": "SzXljU544Rin"
      },
      "source": [
        "linear_model = nn.Linear(28*28,1)"
      ],
      "execution_count": null,
      "outputs": []
    },
    {
      "cell_type": "code",
      "metadata": {
        "id": "Fbszo_SO4nSJ"
      },
      "source": [
        "w,b = linear_model.parameters()\n",
        "w.shape,b.shape"
      ],
      "execution_count": null,
      "outputs": []
    },
    {
      "cell_type": "code",
      "metadata": {
        "id": "SnITZVl346dK"
      },
      "source": [
        "dl = DataLoader(TrainSet, batch_size=256)#x and y combined"
      ],
      "execution_count": null,
      "outputs": []
    },
    {
      "cell_type": "code",
      "metadata": {
        "id": "WUEEr0oy4wRm"
      },
      "source": [
        "valid_dl = DataLoader(ValidSet, batch_size=256)"
      ],
      "execution_count": null,
      "outputs": []
    },
    {
      "cell_type": "code",
      "metadata": {
        "id": "6qolCWqF4vd3"
      },
      "source": [
        "dls = DataLoaders(dl, valid_dl)"
      ],
      "execution_count": null,
      "outputs": []
    },
    {
      "cell_type": "code",
      "metadata": {
        "id": "wp0-m4_y5SiH"
      },
      "source": [
        "def mnist_loss(predictions, targets):\n",
        "    return torch.where(targets==1, 1-predictions, predictions).mean()"
      ],
      "execution_count": null,
      "outputs": []
    },
    {
      "cell_type": "code",
      "metadata": {
        "id": "Op-r-5rS5m5Q"
      },
      "source": [
        "def batch_accuracy(xb, yb):\n",
        "    preds = xb.sigmoid()\n",
        "    correct = (preds>0.5) == yb\n",
        "    return correct.float().mean()"
      ],
      "execution_count": null,
      "outputs": []
    },
    {
      "cell_type": "code",
      "metadata": {
        "id": "q1KiNTJF5PVO"
      },
      "source": [
        "learn = Learner(dls, nn.Linear(28*28,1), opt_func=SGD, loss_func=mnist_loss, metrics=batch_accuracy)"
      ],
      "execution_count": null,
      "outputs": []
    },
    {
      "cell_type": "code",
      "metadata": {
        "id": "a2jV5cl95zKf"
      },
      "source": [
        "learn.fit(10, lr=1)"
      ],
      "execution_count": null,
      "outputs": []
    },
    {
      "cell_type": "code",
      "metadata": {
        "id": "RYUB-_Tt6OsB"
      },
      "source": [
        "learn.fit(40,1)"
      ],
      "execution_count": null,
      "outputs": []
    },
    {
      "cell_type": "code",
      "metadata": {
        "id": "gZjWwuNQ6TyV"
      },
      "source": [
        "learn.save(\"LinearModel\")"
      ],
      "execution_count": null,
      "outputs": []
    }
  ]
}